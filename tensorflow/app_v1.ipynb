{
 "metadata": {
  "language_info": {
   "codemirror_mode": {
    "name": "ipython",
    "version": 3
   },
   "file_extension": ".py",
   "mimetype": "text/x-python",
   "name": "python",
   "nbconvert_exporter": "python",
   "pygments_lexer": "ipython3",
   "version": "3.8.5-final"
  },
  "orig_nbformat": 2,
  "kernelspec": {
   "name": "python_defaultSpec_1600809487007",
   "display_name": "Python 3.8.5 64-bit ('forecast': venv)"
  }
 },
 "nbformat": 4,
 "nbformat_minor": 2,
 "cells": [
  {
   "cell_type": "code",
   "execution_count": 26,
   "metadata": {},
   "outputs": [],
   "source": [
    "import yfinance as yf\n",
    "import numpy as np\n",
    "import pandas as pd \n",
    "import matplotlib.pyplot as plt\n",
    "import seaborn as sns\n",
    "\n",
    "sns.set()"
   ]
  },
  {
   "cell_type": "code",
   "execution_count": 27,
   "metadata": {},
   "outputs": [],
   "source": [
    "def drop_columns(hist):\n",
    "    return hist.drop(columns=['High', 'Low', 'Volume', 'Dividends', 'Stock Splits'])\n",
    "\n",
    "def set_size(num, df):\n",
    "    return df.shape[0]-num"
   ]
  },
  {
   "cell_type": "code",
   "execution_count": 28,
   "metadata": {},
   "outputs": [
    {
     "output_type": "execute_result",
     "data": {
      "text/plain": "              Open   Close\nDate                      \n2010-01-04   23.91   24.17\n2010-01-05   24.09   24.18\n2010-01-06   24.11   24.03\n2010-01-07   23.92   23.78\n2010-01-08   23.65   23.94\n...            ...     ...\n2020-09-16  210.62  205.05\n2020-09-17  200.05  202.91\n2020-09-18  202.80  200.39\n2020-09-21  197.19  202.54\n2020-09-22  205.06  207.42\n\n[2699 rows x 2 columns]",
      "text/html": "<div>\n<style scoped>\n    .dataframe tbody tr th:only-of-type {\n        vertical-align: middle;\n    }\n\n    .dataframe tbody tr th {\n        vertical-align: top;\n    }\n\n    .dataframe thead th {\n        text-align: right;\n    }\n</style>\n<table border=\"1\" class=\"dataframe\">\n  <thead>\n    <tr style=\"text-align: right;\">\n      <th></th>\n      <th>Open</th>\n      <th>Close</th>\n    </tr>\n    <tr>\n      <th>Date</th>\n      <th></th>\n      <th></th>\n    </tr>\n  </thead>\n  <tbody>\n    <tr>\n      <th>2010-01-04</th>\n      <td>23.91</td>\n      <td>24.17</td>\n    </tr>\n    <tr>\n      <th>2010-01-05</th>\n      <td>24.09</td>\n      <td>24.18</td>\n    </tr>\n    <tr>\n      <th>2010-01-06</th>\n      <td>24.11</td>\n      <td>24.03</td>\n    </tr>\n    <tr>\n      <th>2010-01-07</th>\n      <td>23.92</td>\n      <td>23.78</td>\n    </tr>\n    <tr>\n      <th>2010-01-08</th>\n      <td>23.65</td>\n      <td>23.94</td>\n    </tr>\n    <tr>\n      <th>...</th>\n      <td>...</td>\n      <td>...</td>\n    </tr>\n    <tr>\n      <th>2020-09-16</th>\n      <td>210.62</td>\n      <td>205.05</td>\n    </tr>\n    <tr>\n      <th>2020-09-17</th>\n      <td>200.05</td>\n      <td>202.91</td>\n    </tr>\n    <tr>\n      <th>2020-09-18</th>\n      <td>202.80</td>\n      <td>200.39</td>\n    </tr>\n    <tr>\n      <th>2020-09-21</th>\n      <td>197.19</td>\n      <td>202.54</td>\n    </tr>\n    <tr>\n      <th>2020-09-22</th>\n      <td>205.06</td>\n      <td>207.42</td>\n    </tr>\n  </tbody>\n</table>\n<p>2699 rows × 2 columns</p>\n</div>"
     },
     "metadata": {},
     "execution_count": 28
    }
   ],
   "source": [
    "data = yf.Ticker('MSFT')\n",
    "df = drop_columns(data.history(start='2010-01-01'))\n",
    "n = len(df)\n",
    "df"
   ]
  },
  {
   "cell_type": "code",
   "execution_count": 29,
   "metadata": {},
   "outputs": [
    {
     "output_type": "execute_result",
     "data": {
      "text/plain": "        count       mean        std    min     25%    50%    75%     max\nOpen   2699.0  61.008344  47.670550  18.20  24.570  41.56  85.20  229.27\nClose  2699.0  61.028118  47.684435  18.13  24.605  41.65  84.81  231.65",
      "text/html": "<div>\n<style scoped>\n    .dataframe tbody tr th:only-of-type {\n        vertical-align: middle;\n    }\n\n    .dataframe tbody tr th {\n        vertical-align: top;\n    }\n\n    .dataframe thead th {\n        text-align: right;\n    }\n</style>\n<table border=\"1\" class=\"dataframe\">\n  <thead>\n    <tr style=\"text-align: right;\">\n      <th></th>\n      <th>count</th>\n      <th>mean</th>\n      <th>std</th>\n      <th>min</th>\n      <th>25%</th>\n      <th>50%</th>\n      <th>75%</th>\n      <th>max</th>\n    </tr>\n  </thead>\n  <tbody>\n    <tr>\n      <th>Open</th>\n      <td>2699.0</td>\n      <td>61.008344</td>\n      <td>47.670550</td>\n      <td>18.20</td>\n      <td>24.570</td>\n      <td>41.56</td>\n      <td>85.20</td>\n      <td>229.27</td>\n    </tr>\n    <tr>\n      <th>Close</th>\n      <td>2699.0</td>\n      <td>61.028118</td>\n      <td>47.684435</td>\n      <td>18.13</td>\n      <td>24.605</td>\n      <td>41.65</td>\n      <td>84.81</td>\n      <td>231.65</td>\n    </tr>\n  </tbody>\n</table>\n</div>"
     },
     "metadata": {},
     "execution_count": 29
    }
   ],
   "source": [
    "df.describe().transpose()"
   ]
  },
  {
   "cell_type": "code",
   "execution_count": 30,
   "metadata": {},
   "outputs": [
    {
     "output_type": "execute_result",
     "data": {
      "text/plain": "DatetimeIndex(['2010-01-04', '2010-01-05', '2010-01-06', '2010-01-07',\n               '2010-01-08', '2010-01-11', '2010-01-12', '2010-01-13',\n               '2010-01-14', '2010-01-15',\n               ...\n               '2020-09-09', '2020-09-10', '2020-09-11', '2020-09-14',\n               '2020-09-15', '2020-09-16', '2020-09-17', '2020-09-18',\n               '2020-09-21', '2020-09-22'],\n              dtype='datetime64[ns]', name='Date', length=2699, freq=None)"
     },
     "metadata": {},
     "execution_count": 30
    }
   ],
   "source": [
    "import datetime\n",
    "\n",
    "date_time = pd.to_datetime(df.index, format='%d.%m.%Y')\n",
    "timestamp_s = date_time.map(datetime.datetime.timestamp)\n",
    "date_time"
   ]
  },
  {
   "cell_type": "code",
   "execution_count": 31,
   "metadata": {},
   "outputs": [
    {
     "output_type": "execute_result",
     "data": {
      "text/plain": "{'Open': 0, 'Close': 1}"
     },
     "metadata": {},
     "execution_count": 31
    }
   ],
   "source": [
    "column_indices = {name: i for i, name in enumerate(df.columns)}\n",
    "column_indices"
   ]
  },
  {
   "cell_type": "code",
   "execution_count": null,
   "metadata": {},
   "outputs": [],
   "source": []
  }
 ]
}