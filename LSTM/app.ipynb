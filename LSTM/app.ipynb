{
 "metadata": {
  "language_info": {
   "codemirror_mode": {
    "name": "ipython",
    "version": 3
   },
   "file_extension": ".py",
   "mimetype": "text/x-python",
   "name": "python",
   "nbconvert_exporter": "python",
   "pygments_lexer": "ipython3",
   "version": "3.8.5-final"
  },
  "orig_nbformat": 2,
  "kernelspec": {
   "name": "python_defaultSpec_1600789832330",
   "display_name": "Python 3.8.5 64-bit ('forecast': venv)"
  }
 },
 "nbformat": 4,
 "nbformat_minor": 2,
 "cells": [
  {
   "cell_type": "code",
   "execution_count": 2,
   "metadata": {},
   "outputs": [],
   "source": [
    "import yfinance as yf\n",
    "import numpy as np\n",
    "import pandas as pd\n",
    "import matplotlib.pyplot as plt\n",
    "import seaborn as sns\n",
    "\n",
    "sns.set()\n",
    "test_length = 182"
   ]
  },
  {
   "cell_type": "code",
   "execution_count": 3,
   "metadata": {},
   "outputs": [],
   "source": [
    "def drop_columns(hist):\n",
    "    return hist.drop(columns=['Open', 'High', 'Low', 'Volume', 'Dividends', 'Stock Splits'])\n",
    "\n",
    "def set_size(num, df):\n",
    "    return df.shape[0]-num"
   ]
  },
  {
   "cell_type": "code",
   "execution_count": 10,
   "metadata": {},
   "outputs": [
    {
     "output_type": "execute_result",
     "data": {
      "text/plain": "             Close\nDate              \n1986-03-13    0.06\n1986-03-14    0.06\n1986-03-17    0.07\n1986-03-18    0.06\n1986-03-19    0.06\n...            ...\n2020-09-16  205.05\n2020-09-17  202.91\n2020-09-18  200.39\n2020-09-21  202.54\n2020-09-22  204.66\n\n[8704 rows x 1 columns]",
      "text/html": "<div>\n<style scoped>\n    .dataframe tbody tr th:only-of-type {\n        vertical-align: middle;\n    }\n\n    .dataframe tbody tr th {\n        vertical-align: top;\n    }\n\n    .dataframe thead th {\n        text-align: right;\n    }\n</style>\n<table border=\"1\" class=\"dataframe\">\n  <thead>\n    <tr style=\"text-align: right;\">\n      <th></th>\n      <th>Close</th>\n    </tr>\n    <tr>\n      <th>Date</th>\n      <th></th>\n    </tr>\n  </thead>\n  <tbody>\n    <tr>\n      <th>1986-03-13</th>\n      <td>0.06</td>\n    </tr>\n    <tr>\n      <th>1986-03-14</th>\n      <td>0.06</td>\n    </tr>\n    <tr>\n      <th>1986-03-17</th>\n      <td>0.07</td>\n    </tr>\n    <tr>\n      <th>1986-03-18</th>\n      <td>0.06</td>\n    </tr>\n    <tr>\n      <th>1986-03-19</th>\n      <td>0.06</td>\n    </tr>\n    <tr>\n      <th>...</th>\n      <td>...</td>\n    </tr>\n    <tr>\n      <th>2020-09-16</th>\n      <td>205.05</td>\n    </tr>\n    <tr>\n      <th>2020-09-17</th>\n      <td>202.91</td>\n    </tr>\n    <tr>\n      <th>2020-09-18</th>\n      <td>200.39</td>\n    </tr>\n    <tr>\n      <th>2020-09-21</th>\n      <td>202.54</td>\n    </tr>\n    <tr>\n      <th>2020-09-22</th>\n      <td>204.66</td>\n    </tr>\n  </tbody>\n</table>\n<p>8704 rows × 1 columns</p>\n</div>"
     },
     "metadata": {},
     "execution_count": 10
    }
   ],
   "source": [
    "data = yf.Ticker('MSFT')\n",
    "df = drop_columns(data.history(period=\"max\"))\n",
    "n = len(df)\n",
    "df"
   ]
  },
  {
   "cell_type": "code",
   "execution_count": null,
   "metadata": {},
   "outputs": [],
   "source": []
  }
 ]
}